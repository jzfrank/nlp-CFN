{
 "cells": [
  {
   "cell_type": "markdown",
   "id": "d69a530b-84e7-4e3a-884d-85d14e33e229",
   "metadata": {},
   "source": [
    "reference: https://github.com/LeanManager/NLP_Technical_Founders/blob/master/Unsupervised%20Learning%20in%20NLP.ipynb"
   ]
  },
  {
   "cell_type": "markdown",
   "id": "504421e3-6b78-43d0-87e3-7ffa3e5dcb9a",
   "metadata": {},
   "source": [
    "## 1. Read in Data"
   ]
  },
  {
   "cell_type": "code",
   "execution_count": 2,
   "id": "02c77dbf-7f24-4bb4-ad93-94cbbdee5c59",
   "metadata": {},
   "outputs": [],
   "source": [
    "import pandas as pd\n",
    "\n",
    "data = pd.read_parquet('../data/train.parquet', engine='pyarrow')"
   ]
  },
  {
   "cell_type": "code",
   "execution_count": 3,
   "id": "ca313318-71c3-443a-ad0a-25efbcaff074",
   "metadata": {},
   "outputs": [
    {
     "data": {
      "text/html": [
       "<div>\n",
       "<style scoped>\n",
       "    .dataframe tbody tr th:only-of-type {\n",
       "        vertical-align: middle;\n",
       "    }\n",
       "\n",
       "    .dataframe tbody tr th {\n",
       "        vertical-align: top;\n",
       "    }\n",
       "\n",
       "    .dataframe thead th {\n",
       "        text-align: right;\n",
       "    }\n",
       "</style>\n",
       "<table border=\"1\" class=\"dataframe\">\n",
       "  <thead>\n",
       "    <tr style=\"text-align: right;\">\n",
       "      <th></th>\n",
       "      <th>NEWS_TITLE</th>\n",
       "      <th>NEWS_ORIGIN_SOURCE</th>\n",
       "      <th>NEWS_ID</th>\n",
       "    </tr>\n",
       "  </thead>\n",
       "  <tbody>\n",
       "    <tr>\n",
       "      <th>32782666</th>\n",
       "      <td>连平：上半年还将降准1-2次 短期降息可能性不大</td>\n",
       "      <td>金融界网站</td>\n",
       "      <td>9387658</td>\n",
       "    </tr>\n",
       "    <tr>\n",
       "      <th>38220229</th>\n",
       "      <td>传阿里巴巴拟8000万美元投资美国电商Boxed</td>\n",
       "      <td>None</td>\n",
       "      <td>15887876</td>\n",
       "    </tr>\n",
       "    <tr>\n",
       "      <th>42272942</th>\n",
       "      <td>天恒联手春雨医生首发5G健康体系 倡导互联网+健康社区</td>\n",
       "      <td>None</td>\n",
       "      <td>20650101</td>\n",
       "    </tr>\n",
       "    <tr>\n",
       "      <th>40231129</th>\n",
       "      <td>苹果iPhone 6S Plus(全网通)售5550元</td>\n",
       "      <td>None</td>\n",
       "      <td>18197459</td>\n",
       "    </tr>\n",
       "    <tr>\n",
       "      <th>42285498</th>\n",
       "      <td>强强联合,助力中国电气产业在＂一带一路＂中走出去</td>\n",
       "      <td>None</td>\n",
       "      <td>20664890</td>\n",
       "    </tr>\n",
       "    <tr>\n",
       "      <th>36276140</th>\n",
       "      <td>环保部出动无人机开展巡查 打击违法排污企业</td>\n",
       "      <td>None</td>\n",
       "      <td>13716146</td>\n",
       "    </tr>\n",
       "    <tr>\n",
       "      <th>44628753</th>\n",
       "      <td>我国首个无人船研发测试基地落户珠海</td>\n",
       "      <td>None</td>\n",
       "      <td>23399593</td>\n",
       "    </tr>\n",
       "    <tr>\n",
       "      <th>47040124</th>\n",
       "      <td>奥特佳新能源科技股份有限公司关于控股股东股份解除质押的公告</td>\n",
       "      <td>None</td>\n",
       "      <td>27364706</td>\n",
       "    </tr>\n",
       "    <tr>\n",
       "      <th>40266387</th>\n",
       "      <td>美防长公布新财年国防预算申请 打击IS经费涨50%</td>\n",
       "      <td>None</td>\n",
       "      <td>18238635</td>\n",
       "    </tr>\n",
       "    <tr>\n",
       "      <th>43569960</th>\n",
       "      <td>今年石油年均价不会高于每桶50美元</td>\n",
       "      <td>中国经济网—《经济日报》</td>\n",
       "      <td>22015713</td>\n",
       "    </tr>\n",
       "    <tr>\n",
       "      <th>35902931</th>\n",
       "      <td>央行“最严”网络支付新规背后：五问“我就是我”</td>\n",
       "      <td>None</td>\n",
       "      <td>13292471</td>\n",
       "    </tr>\n",
       "    <tr>\n",
       "      <th>32836909</th>\n",
       "      <td>地方财政问题是投资者心中隐忧</td>\n",
       "      <td>None</td>\n",
       "      <td>9455216</td>\n",
       "    </tr>\n",
       "    <tr>\n",
       "      <th>38370497</th>\n",
       "      <td>正点巡检出彩的不止双11剁手,还有检察青年相亲故事</td>\n",
       "      <td>None</td>\n",
       "      <td>16052738</td>\n",
       "    </tr>\n",
       "    <tr>\n",
       "      <th>42224819</th>\n",
       "      <td>图文：武汉道路停车今起要收费了</td>\n",
       "      <td>None</td>\n",
       "      <td>20590022</td>\n",
       "    </tr>\n",
       "    <tr>\n",
       "      <th>34647699</th>\n",
       "      <td>安信证券：继续围绕钢铁电商挖掘投资机会</td>\n",
       "      <td>None</td>\n",
       "      <td>11729553</td>\n",
       "    </tr>\n",
       "    <tr>\n",
       "      <th>46533876</th>\n",
       "      <td>恒指收跌0.83%报23132点 蓝筹股全线下跌</td>\n",
       "      <td>大盘分析</td>\n",
       "      <td>26558999</td>\n",
       "    </tr>\n",
       "    <tr>\n",
       "      <th>35902299</th>\n",
       "      <td>动荡A股中的中科招商:擅与政府合作 以凶猛大胆见长</td>\n",
       "      <td>None</td>\n",
       "      <td>13291818</td>\n",
       "    </tr>\n",
       "    <tr>\n",
       "      <th>38134253</th>\n",
       "      <td>和讯股票池（2015-11-03）：农改股迎爆发</td>\n",
       "      <td>和讯网</td>\n",
       "      <td>15793832</td>\n",
       "    </tr>\n",
       "    <tr>\n",
       "      <th>38810721</th>\n",
       "      <td>航天机电：2015年12月03日最新提示 融资融券 (600151)</td>\n",
       "      <td>和讯网</td>\n",
       "      <td>16567510</td>\n",
       "    </tr>\n",
       "    <tr>\n",
       "      <th>41774906</th>\n",
       "      <td>联合国特使和谈前夕访问叙利亚</td>\n",
       "      <td>None</td>\n",
       "      <td>20079271</td>\n",
       "    </tr>\n",
       "  </tbody>\n",
       "</table>\n",
       "</div>"
      ],
      "text/plain": [
       "                                  NEWS_TITLE NEWS_ORIGIN_SOURCE   NEWS_ID\n",
       "32782666            连平：上半年还将降准1-2次 短期降息可能性不大              金融界网站   9387658\n",
       "38220229            传阿里巴巴拟8000万美元投资美国电商Boxed               None  15887876\n",
       "42272942         天恒联手春雨医生首发5G健康体系 倡导互联网+健康社区               None  20650101\n",
       "40231129         苹果iPhone 6S Plus(全网通)售5550元               None  18197459\n",
       "42285498            强强联合,助力中国电气产业在＂一带一路＂中走出去               None  20664890\n",
       "36276140               环保部出动无人机开展巡查 打击违法排污企业               None  13716146\n",
       "44628753                   我国首个无人船研发测试基地落户珠海               None  23399593\n",
       "47040124       奥特佳新能源科技股份有限公司关于控股股东股份解除质押的公告               None  27364706\n",
       "40266387           美防长公布新财年国防预算申请 打击IS经费涨50%               None  18238635\n",
       "43569960                   今年石油年均价不会高于每桶50美元       中国经济网—《经济日报》  22015713\n",
       "35902931             央行“最严”网络支付新规背后：五问“我就是我”               None  13292471\n",
       "32836909                      地方财政问题是投资者心中隐忧               None   9455216\n",
       "38370497           正点巡检出彩的不止双11剁手,还有检察青年相亲故事               None  16052738\n",
       "42224819                     图文：武汉道路停车今起要收费了               None  20590022\n",
       "34647699                 安信证券：继续围绕钢铁电商挖掘投资机会               None  11729553\n",
       "46533876            恒指收跌0.83%报23132点 蓝筹股全线下跌               大盘分析  26558999\n",
       "35902299           动荡A股中的中科招商:擅与政府合作 以凶猛大胆见长               None  13291818\n",
       "38134253            和讯股票池（2015-11-03）：农改股迎爆发                和讯网  15793832\n",
       "38810721  航天机电：2015年12月03日最新提示 融资融券 (600151)                和讯网  16567510\n",
       "41774906                      联合国特使和谈前夕访问叙利亚               None  20079271"
      ]
     },
     "execution_count": 3,
     "metadata": {},
     "output_type": "execute_result"
    }
   ],
   "source": [
    "data.sample(20)"
   ]
  },
  {
   "cell_type": "code",
   "execution_count": 4,
   "id": "c88ff41e-c660-4a22-b820-646767f8deb3",
   "metadata": {},
   "outputs": [],
   "source": [
    "data = data.sample(100000)"
   ]
  },
  {
   "cell_type": "markdown",
   "id": "23b26ce3-10ca-4aa6-b76b-f308e3401941",
   "metadata": {
    "tags": []
   },
   "source": [
    "## 2. Preprocessing data\n",
    "1. 去标点符号\n",
    "2. 分词\n",
    "3. 移除stopwords"
   ]
  },
  {
   "cell_type": "code",
   "execution_count": 5,
   "id": "455cea38-ba7c-4470-8c70-92b7f9d810c3",
   "metadata": {},
   "outputs": [
    {
     "name": "stdout",
     "output_type": "stream",
     "text": [
      "测试去除标点\n"
     ]
    }
   ],
   "source": [
    "import re\n",
    "punc = ''' \"()\\[\\]\\{\\}！？｡。＂＃＄％＆＇（）＊＋，－／：；＜＝＞＠［＼］＾＿｀｛｜｝～｟｠｢｣､、〃》「」『』【】〔〕〖〗〘〙〚〛〜〝〞〟〰〾〿–—‘’‛“”„‟…‧﹏.'''\n",
    "\n",
    "def puncRemover(s):\n",
    "    return re.sub(r'[%s]'%punc, \"\", s)\n",
    "\n",
    "line = \"测试。。去 除标点。。，、！\"\n",
    "# print(re.sub(r'[%s]'%punc, \"\", line))\n",
    "print(puncRemover(line))"
   ]
  },
  {
   "cell_type": "code",
   "execution_count": 6,
   "id": "313e15ba-dd29-4bd1-8c7b-3b01a9ebc5e0",
   "metadata": {},
   "outputs": [],
   "source": [
    "news_title = data.NEWS_TITLE\n",
    "news_title = news_title.apply(puncRemover)"
   ]
  },
  {
   "cell_type": "code",
   "execution_count": 7,
   "id": "381af0cd-f989-4952-a267-a74761f33ca7",
   "metadata": {},
   "outputs": [
    {
     "data": {
      "text/plain": [
       "42909977                   南海区人民医院举办舞会迎护士节\n",
       "39257559                     万科独董海闻钜盛华增持H股\n",
       "46867837               柳工盈利能力有所提高国际化转型不断提速\n",
       "40344242         天津市委常委等5名省部级官员被建议给予党纪政纪处分\n",
       "41433122    3月28日ishares黄金持仓持平/白银持仓增加2664吨\n",
       "                         ...              \n",
       "43694664                    周二机构强推买入6股极度低估\n",
       "44952856                金字火腿终止重大资产重组27日起复牌\n",
       "32795400                         四公司首发申请获准\n",
       "38880886                       日本式教育何以输出海外\n",
       "33440554                  小伙6年喊睡不着原来是矛盾性失眠\n",
       "Name: NEWS_TITLE, Length: 100000, dtype: object"
      ]
     },
     "execution_count": 7,
     "metadata": {},
     "output_type": "execute_result"
    }
   ],
   "source": [
    "news_title"
   ]
  },
  {
   "cell_type": "code",
   "execution_count": 8,
   "id": "28b1c46b-648b-4a0f-8a35-ce4656dcb933",
   "metadata": {},
   "outputs": [],
   "source": [
    "import jieba"
   ]
  },
  {
   "cell_type": "code",
   "execution_count": 9,
   "id": "8ece666f-8deb-4201-beb9-c1482dac99a8",
   "metadata": {},
   "outputs": [
    {
     "name": "stderr",
     "output_type": "stream",
     "text": [
      "Building prefix dict from the default dictionary ...\n",
      "Loading model from cache /var/folders/x7/bnm7sy4j0bj1fs53ln11sg_80000gn/T/jieba.cache\n",
      "Loading model cost 0.519 seconds.\n",
      "Prefix dict has been built successfully.\n"
     ]
    }
   ],
   "source": [
    "news_title = news_title.apply(lambda x: list(jieba.cut(x)))"
   ]
  },
  {
   "cell_type": "code",
   "execution_count": 10,
   "id": "e7f810cd-9a01-4f75-9e77-4d8bca731055",
   "metadata": {},
   "outputs": [
    {
     "data": {
      "text/plain": [
       "42909977                        [南海区, 人民, 医院, 举办, 舞会, 迎, 护士节]\n",
       "39257559                          [万科, 独董, 海闻, 钜, 盛华, 增持, H股]\n",
       "46867837                  [柳工, 盈利, 能力, 有所提高, 国际化, 转型, 不断, 提速]\n",
       "40344242    [天津, 市委常委, 等, 5, 名, 省部级, 官员, 被, 建议, 给予, 党纪政纪, 处分]\n",
       "41433122    [3, 月, 28, 日, ishares, 黄金, 持仓, 持平, /, 白银, 持仓, ...\n",
       "                                  ...                        \n",
       "43694664                       [周二, 机构, 强推, 买入, 6, 股, 极度, 低估]\n",
       "44952856                   [金字, 火腿, 终止, 重大, 资产重组, 27, 日起, 复牌]\n",
       "32795400                                  [四, 公司, 首发, 申请, 获准]\n",
       "38880886                                [日本式, 教育, 何以, 输出, 海外]\n",
       "33440554                   [小伙, 6, 年, 喊, 睡不着, 原来, 是, 矛盾性, 失眠]\n",
       "Name: NEWS_TITLE, Length: 100000, dtype: object"
      ]
     },
     "execution_count": 10,
     "metadata": {},
     "output_type": "execute_result"
    }
   ],
   "source": [
    "news_title"
   ]
  },
  {
   "cell_type": "code",
   "execution_count": 11,
   "id": "0a8c4017-99b9-4eb5-9e7f-5ad2cdd30589",
   "metadata": {},
   "outputs": [
    {
     "data": {
      "text/plain": [
       "['南海区', '人民', '医院', '举办', '舞会', '迎', '护士节']"
      ]
     },
     "execution_count": 11,
     "metadata": {},
     "output_type": "execute_result"
    }
   ],
   "source": [
    "list(jieba.cut(data.NEWS_TITLE.iloc[0]))"
   ]
  },
  {
   "cell_type": "code",
   "execution_count": null,
   "id": "4ab0af76-746c-4797-b8fc-0018e83227b2",
   "metadata": {},
   "outputs": [],
   "source": []
  },
  {
   "cell_type": "code",
   "execution_count": 12,
   "id": "c28ede80-03f4-478e-b16f-35cdfedc8de4",
   "metadata": {},
   "outputs": [],
   "source": [
    "cn_stopwords = pd.read_csv('../data/cn_stopwords.txt', header=None)\n",
    "\n",
    "cn_stopwords = set(cn_stopwords.iloc[:,0])"
   ]
  },
  {
   "cell_type": "code",
   "execution_count": 13,
   "id": "e09d362e-b80e-48bd-869d-8668f13fffc7",
   "metadata": {},
   "outputs": [
    {
     "data": {
      "text/plain": [
       "True"
      ]
     },
     "execution_count": 13,
     "metadata": {},
     "output_type": "execute_result"
    }
   ],
   "source": [
    "\"在\" in cn_stopwords"
   ]
  },
  {
   "cell_type": "code",
   "execution_count": 14,
   "id": "83d76574-40c2-425c-8d3d-43cfdb7a0294",
   "metadata": {},
   "outputs": [],
   "source": [
    "news_title = news_title.apply(lambda x: [i for i in x if i not in cn_stopwords])"
   ]
  },
  {
   "cell_type": "code",
   "execution_count": 15,
   "id": "c7baab29-937c-4f5a-b9cf-dab9b8d91742",
   "metadata": {},
   "outputs": [
    {
     "data": {
      "text/plain": [
       "42909977                        [南海区, 人民, 医院, 举办, 舞会, 迎, 护士节]\n",
       "39257559                          [万科, 独董, 海闻, 钜, 盛华, 增持, H股]\n",
       "46867837                  [柳工, 盈利, 能力, 有所提高, 国际化, 转型, 不断, 提速]\n",
       "40344242             [天津, 市委常委, 名, 省部级, 官员, 建议, 给予, 党纪政纪, 处分]\n",
       "41433122    [月, 28, 日, ishares, 黄金, 持仓, 持平, /, 白银, 持仓, 增加,...\n",
       "                                  ...                        \n",
       "43694664                          [周二, 机构, 强推, 买入, 股, 极度, 低估]\n",
       "44952856                   [金字, 火腿, 终止, 重大, 资产重组, 27, 日起, 复牌]\n",
       "32795400                                  [四, 公司, 首发, 申请, 获准]\n",
       "38880886                                    [日本式, 教育, 输出, 海外]\n",
       "33440554                         [小伙, 年, 喊, 睡不着, 原来, 矛盾性, 失眠]\n",
       "Name: NEWS_TITLE, Length: 100000, dtype: object"
      ]
     },
     "execution_count": 15,
     "metadata": {},
     "output_type": "execute_result"
    }
   ],
   "source": [
    "news_title"
   ]
  },
  {
   "cell_type": "markdown",
   "id": "13284ccd-cce9-4110-9248-1e4f1bee23b1",
   "metadata": {},
   "source": [
    "## 3.1 Bag of words on the dataset"
   ]
  },
  {
   "cell_type": "code",
   "execution_count": 16,
   "id": "34ee7744-23c7-4a9d-a917-110c3d3ce985",
   "metadata": {},
   "outputs": [],
   "source": [
    "import gensim"
   ]
  },
  {
   "cell_type": "code",
   "execution_count": 17,
   "id": "97b9df74-1d81-4343-9a91-04decbd2142b",
   "metadata": {},
   "outputs": [],
   "source": [
    "dictionary = gensim.corpora.Dictionary(news_title)"
   ]
  },
  {
   "cell_type": "code",
   "execution_count": 18,
   "id": "8d558554-ee76-4834-8219-d4450a2bdd2d",
   "metadata": {},
   "outputs": [
    {
     "name": "stdout",
     "output_type": "stream",
     "text": [
      "0 举办\n",
      "1 人民\n",
      "2 医院\n",
      "3 南海区\n",
      "4 护士节\n",
      "5 舞会\n",
      "6 迎\n",
      "7 H股\n",
      "8 万科\n",
      "9 增持\n",
      "10 海闻\n"
     ]
    }
   ],
   "source": [
    "count = 0\n",
    "\n",
    "for k,v in dictionary.iteritems():\n",
    "    print(k,v)\n",
    "    count += 1\n",
    "    if count > 10:\n",
    "        break"
   ]
  },
  {
   "cell_type": "code",
   "execution_count": 19,
   "id": "0556a79d-68be-4832-9863-28d3c213f3c7",
   "metadata": {},
   "outputs": [],
   "source": [
    "# remove very common and very rare words\n",
    "dictionary.filter_extremes(no_below=3, no_above=0.7, keep_n = 100000)"
   ]
  },
  {
   "cell_type": "code",
   "execution_count": 20,
   "id": "bd8e0893-59b8-4a08-9ec0-530cd477d387",
   "metadata": {},
   "outputs": [
    {
     "data": {
      "text/plain": [
       "100000"
      ]
     },
     "execution_count": 20,
     "metadata": {},
     "output_type": "execute_result"
    }
   ],
   "source": [
    "dictionary.num_docs"
   ]
  },
  {
   "cell_type": "code",
   "execution_count": 21,
   "id": "c323173c-dd28-4ef4-b748-f1198fc47c8e",
   "metadata": {},
   "outputs": [],
   "source": [
    "# doc2bow(doc)\n",
    "# Convert document (a list of words) into the bag-of-words format = list of (token_id, token_count) 2-tuples. \n",
    "# Each word is assumed to be a tokenized and normalized string (either unicode or utf8-encoded). \n",
    "# No further preprocessing is done on the words in document; apply tokenization, stemming etc. before calling this method."
   ]
  },
  {
   "cell_type": "code",
   "execution_count": 22,
   "id": "ad746960-7f8b-4f7a-883d-dc763ad1a081",
   "metadata": {},
   "outputs": [],
   "source": [
    "bow_corpus = [dictionary.doc2bow(doc) for doc in news_title]"
   ]
  },
  {
   "cell_type": "code",
   "execution_count": 23,
   "id": "af4dcb98-a5a4-437c-a9a3-43a6f887d095",
   "metadata": {},
   "outputs": [
    {
     "data": {
      "text/plain": [
       "[(4, 1), (5, 1), (6, 1), (7, 1), (8, 1), (9, 1), (10, 1)]"
      ]
     },
     "execution_count": 23,
     "metadata": {},
     "output_type": "execute_result"
    }
   ],
   "source": [
    "bow_corpus[1]"
   ]
  },
  {
   "cell_type": "code",
   "execution_count": 24,
   "id": "6ce579cc-a6c2-450e-b5d6-ed4838883e0e",
   "metadata": {},
   "outputs": [
    {
     "data": {
      "text/plain": [
       "['万科', '独董', '海闻', '钜', '盛华', '增持', 'H股']"
      ]
     },
     "execution_count": 24,
     "metadata": {},
     "output_type": "execute_result"
    }
   ],
   "source": [
    "news_title.iloc[1]"
   ]
  },
  {
   "cell_type": "code",
   "execution_count": 25,
   "id": "e3e52ea7-8c2a-4616-9af2-549e0df0943e",
   "metadata": {},
   "outputs": [
    {
     "name": "stdout",
     "output_type": "stream",
     "text": [
      "original news: ['你品', '咖啡', '品什']\n",
      "word (1368, 咖啡) appears 1 times\n"
     ]
    }
   ],
   "source": [
    "example_num = 244\n",
    "example_doc = bow_corpus[example_num]\n",
    "print(\"original news:\", news_title.iloc[example_num])\n",
    "for i in range(len(example_doc)):\n",
    "    print(f\"word ({example_doc[i][0]}, {dictionary[example_doc[i][0]]}) appears {example_doc[i][1]} times\")"
   ]
  },
  {
   "cell_type": "code",
   "execution_count": 26,
   "id": "ad462c73-e83c-4433-ad5f-15255fe545f1",
   "metadata": {},
   "outputs": [
    {
     "data": {
      "text/plain": [
       "[(4, 1), (5, 1), (6, 1), (7, 1), (8, 1), (9, 1), (10, 1)]"
      ]
     },
     "execution_count": 26,
     "metadata": {},
     "output_type": "execute_result"
    }
   ],
   "source": [
    "bow_corpus[1]"
   ]
  },
  {
   "cell_type": "markdown",
   "id": "7b6b48ec-54ad-4b2e-853d-2e51d910155c",
   "metadata": {},
   "source": [
    "## 3.2 TF-IDF on document set"
   ]
  },
  {
   "cell_type": "code",
   "execution_count": 27,
   "id": "c907301c-fb50-4ed5-a4e1-0143a9923696",
   "metadata": {},
   "outputs": [
    {
     "name": "stdout",
     "output_type": "stream",
     "text": [
      "TfidfModel<num_docs=100000, num_nnz=763788>\n"
     ]
    }
   ],
   "source": [
    "from gensim import corpora, models \n",
    "\n",
    "tfidf = models.TfidfModel(bow_corpus)\n",
    "print(tfidf)"
   ]
  },
  {
   "cell_type": "code",
   "execution_count": 28,
   "id": "7cab2c9c-981d-4925-93c9-0cde10a42d6c",
   "metadata": {},
   "outputs": [
    {
     "name": "stdout",
     "output_type": "stream",
     "text": [
      "[(4, 0.32176819421611325), (5, 0.2693261910783195), (6, 0.24957520787128146), (7, 0.48719090186963676), (8, 0.40888078438286046), (9, 0.4357968346219557), (10, 0.40888078438286046)]\n"
     ]
    }
   ],
   "source": [
    "corpus_tfidf = tfidf[bow_corpus]\n",
    "print(corpus_tfidf[1])"
   ]
  },
  {
   "cell_type": "markdown",
   "id": "9e401d5d-9b0f-4c56-ac8e-bbc2801a048d",
   "metadata": {},
   "source": [
    "## 4.1 Running LDA using bag of words"
   ]
  },
  {
   "cell_type": "code",
   "execution_count": 27,
   "id": "ffd1c959-3404-4b61-844d-0641a25d01e9",
   "metadata": {},
   "outputs": [],
   "source": [
    "lda_model = gensim.models.LdaMulticore(bow_corpus, \n",
    "                                      num_topics=10,\n",
    "                                      id2word=dictionary,\n",
    "                                      passes=2,\n",
    "                                      workers=8)"
   ]
  },
  {
   "cell_type": "code",
   "execution_count": 28,
   "id": "e8a08c2f-1cb6-4cef-99f7-95249f29a62a",
   "metadata": {},
   "outputs": [
    {
     "name": "stdout",
     "output_type": "stream",
     "text": [
      "Topic: 0 \n",
      "Words: 0.043*\"月\" + 0.033*\"日\" + 0.012*\"价格\" + 0.012*\"年\" + 0.009*\"10\" + 0.008*\"最新\" + 0.007*\"12\" + 0.007*\"2016\" + 0.007*\"动态\" + 0.006*\"投资\"\n",
      "\n",
      "\n",
      "Topic: 1 \n",
      "Words: 0.009*\"股东\" + 0.008*\"公告\" + 0.008*\"基金\" + 0.008*\"股份\" + 0.007*\"机构\" + 0.006*\"股\" + 0.006*\"中国\" + 0.006*\"有限公司\" + 0.005*\"投资\" + 0.005*\":\"\n",
      "\n",
      "\n",
      "Topic: 2 \n",
      "Words: 0.015*\"新\" + 0.015*\"月\" + 0.011*\"日\" + 0.008*\"三板\" + 0.007*\"价格\" + 0.007*\"生意\" + 0.006*\"社\" + 0.005*\"公司\" + 0.005*\"市场\" + 0.004*\"动态\"\n",
      "\n",
      "\n",
      "Topic: 3 \n",
      "Words: 0.014*\":\" + 0.007*\"市场\" + 0.006*\"美联储\" + 0.006*\"中国\" + 0.006*\"加息\" + 0.006*\"元\" + 0.006*\",\" + 0.005*\"收盘\" + 0.005*\"美元\" + 0.005*\"震荡\"\n",
      "\n",
      "\n",
      "Topic: 4 \n",
      "Words: 0.016*\"月\" + 0.010*\"市场\" + 0.008*\"元\" + 0.008*\"日\" + 0.007*\"资金\" + 0.006*\"快讯\" + 0.005*\"亿元\" + 0.005*\"涨停\" + 0.005*\"人民币\" + 0.005*\"央行\"\n",
      "\n",
      "\n",
      "Topic: 5 \n",
      "Words: 0.015*\"中国\" + 0.007*\"股\" + 0.007*\"发展\" + 0.005*\":\" + 0.005*\"公司\" + 0.005*\"年\" + 0.005*\"银行\" + 0.004*\"股份\" + 0.004*\"亿\" + 0.004*\"创新\"\n",
      "\n",
      "\n",
      "Topic: 6 \n",
      "Words: 0.017*\":\" + 0.011*\",\" + 0.010*\"行业\" + 0.006*\"投资\" + 0.005*\"沪\" + 0.005*\"月\" + 0.005*\"业绩\" + 0.004*\"增长\" + 0.004*\"年\" + 0.004*\"市场\"\n",
      "\n",
      "\n",
      "Topic: 7 \n",
      "Words: 0.014*\"年\" + 0.010*\"月\" + 0.010*\"同比\" + 0.009*\"万元\" + 0.008*\"股份\" + 0.008*\"增长\" + 0.007*\"净利\" + 0.006*\"10\" + 0.006*\"2015\" + 0.006*\"亿\"\n",
      "\n",
      "\n",
      "Topic: 8 \n",
      "Words: 0.014*\"中国\" + 0.009*\"月\" + 0.007*\"-\" + 0.005*\"发展\" + 0.004*\"2015\" + 0.004*\"年\" + 0.004*\"期货\" + 0.004*\":\" + 0.004*\"日\" + 0.004*\"工作\"\n",
      "\n",
      "\n",
      "Topic: 9 \n",
      "Words: 0.009*\"经济\" + 0.009*\":\" + 0.007*\"金融\" + 0.006*\"中国\" + 0.006*\"证券\" + 0.005*\"新\" + 0.004*\",\" + 0.004*\"反弹\" + 0.003*\"数据\" + 0.003*\"合作\"\n",
      "\n",
      "\n"
     ]
    }
   ],
   "source": [
    "for idx, topic in lda_model.print_topics(-1):\n",
    "    print(\"Topic: {} \\nWords: {}\".format(idx, topic))\n",
    "    print(\"\\n\")"
   ]
  },
  {
   "cell_type": "markdown",
   "id": "6af6bdcf-0c8c-445b-ad7d-98de885a140c",
   "metadata": {},
   "source": [
    "## 4.2 Running LDA using TF-IDF"
   ]
  },
  {
   "cell_type": "code",
   "execution_count": 29,
   "id": "cda2a76a-0272-41e4-946b-24733f321fd9",
   "metadata": {},
   "outputs": [],
   "source": [
    "lda_model_tfidf = gensim.models.LdaMulticore(corpus_tfidf, \n",
    "                                             num_topics=10, \n",
    "                                             id2word = dictionary, \n",
    "                                             passes = 2, \n",
    "                                             workers=8)"
   ]
  },
  {
   "cell_type": "code",
   "execution_count": 30,
   "id": "564b37e3-e8d8-4eff-9127-b39bcf7a51a5",
   "metadata": {},
   "outputs": [
    {
     "name": "stdout",
     "output_type": "stream",
     "text": [
      "Topic: 0 Word: 0.004*\"月\" + 0.003*\"日\" + 0.003*\"中国\" + 0.003*\":\" + 0.002*\"市场\" + 0.002*\"股\" + 0.002*\"新\" + 0.002*\"板块\" + 0.002*\"动态\" + 0.002*\"公司\"\n",
      "\n",
      "\n",
      "Topic: 1 Word: 0.005*\"月\" + 0.004*\"日\" + 0.004*\"中国\" + 0.004*\"市场\" + 0.003*\"经济\" + 0.003*\"价格\" + 0.003*\":\" + 0.002*\"黄金\" + 0.002*\"上海\" + 0.002*\"美国\"\n",
      "\n",
      "\n",
      "Topic: 2 Word: 0.004*\"月\" + 0.004*\"中国\" + 0.003*\"日\" + 0.003*\"公告\" + 0.003*\":\" + 0.003*\"市场\" + 0.002*\"有限公司\" + 0.002*\"股份\" + 0.002*\"新\" + 0.002*\"价格\"\n",
      "\n",
      "\n",
      "Topic: 3 Word: 0.004*\"-\" + 0.003*\"月\" + 0.003*\"新\" + 0.003*\"中国\" + 0.003*\":\" + 0.003*\"年\" + 0.003*\"日\" + 0.002*\"10\" + 0.002*\"股东\" + 0.002*\"股份\"\n",
      "\n",
      "\n",
      "Topic: 4 Word: 0.004*\"沪\" + 0.004*\"月\" + 0.004*\":\" + 0.003*\"指\" + 0.003*\"中国\" + 0.002*\"年\" + 0.002*\"市场\" + 0.002*\",\" + 0.002*\"期货\" + 0.002*\"日\"\n",
      "\n",
      "\n",
      "Topic: 5 Word: 0.007*\"年\" + 0.006*\"月\" + 0.004*\"2015\" + 0.004*\"日\" + 0.004*\"2016\" + 0.004*\"万元\" + 0.004*\":\" + 0.004*\"提示\" + 0.003*\"-\" + 0.003*\"最新\"\n",
      "\n",
      "\n",
      "Topic: 6 Word: 0.004*\"中国\" + 0.002*\":\" + 0.002*\"新\" + 0.002*\"机构\" + 0.002*\"公司\" + 0.002*\"年\" + 0.002*\"月\" + 0.002*\"投资\" + 0.002*\"市场\" + 0.002*\"基金\"\n",
      "\n",
      "\n",
      "Topic: 7 Word: 0.004*\"月\" + 0.003*\"日\" + 0.003*\"中国\" + 0.002*\"机构\" + 0.002*\":\" + 0.002*\"行业\" + 0.002*\"公司\" + 0.002*\"市场\" + 0.002*\"家\" + 0.002*\"国际\"\n",
      "\n",
      "\n",
      "Topic: 8 Word: 0.004*\"人民币\" + 0.004*\"月\" + 0.003*\"美元\" + 0.003*\"央行\" + 0.003*\"中国\" + 0.003*\"市场\" + 0.003*\"加息\" + 0.002*\"资金\" + 0.002*\"美联储\" + 0.002*\":\"\n",
      "\n",
      "\n",
      "Topic: 9 Word: 0.005*\"月\" + 0.005*\"日\" + 0.004*\"中国\" + 0.003*\"快讯\" + 0.003*\"价格\" + 0.003*\"投资\" + 0.003*\"报于\" + 0.003*\"涨停\" + 0.003*\"元\" + 0.003*\"股份\"\n",
      "\n",
      "\n"
     ]
    }
   ],
   "source": [
    "for idx, topic in lda_model_tfidf.print_topics(-1):\n",
    "    \n",
    "    print(\"Topic: {} Word: {}\".format(idx, topic))\n",
    "    print(\"\\n\")"
   ]
  },
  {
   "cell_type": "code",
   "execution_count": null,
   "id": "756517cc-2b24-4296-a4c6-bd694d841340",
   "metadata": {},
   "outputs": [],
   "source": []
  }
 ],
 "metadata": {
  "kernelspec": {
   "display_name": "Python (nlp)",
   "language": "python",
   "name": "nlp"
  },
  "language_info": {
   "codemirror_mode": {
    "name": "ipython",
    "version": 3
   },
   "file_extension": ".py",
   "mimetype": "text/x-python",
   "name": "python",
   "nbconvert_exporter": "python",
   "pygments_lexer": "ipython3",
   "version": "3.9.13"
  }
 },
 "nbformat": 4,
 "nbformat_minor": 5
}
