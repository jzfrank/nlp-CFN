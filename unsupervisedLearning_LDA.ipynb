{
 "cells": [
  {
   "cell_type": "markdown",
   "id": "d69a530b-84e7-4e3a-884d-85d14e33e229",
   "metadata": {},
   "source": [
    "reference: https://github.com/LeanManager/NLP_Technical_Founders/blob/master/Unsupervised%20Learning%20in%20NLP.ipynb"
   ]
  },
  {
   "cell_type": "markdown",
   "id": "504421e3-6b78-43d0-87e3-7ffa3e5dcb9a",
   "metadata": {},
   "source": [
    "## 1. Read in Data"
   ]
  },
  {
   "cell_type": "code",
   "execution_count": 1,
   "id": "02c77dbf-7f24-4bb4-ad93-94cbbdee5c59",
   "metadata": {},
   "outputs": [],
   "source": [
    "import pandas as pd\n",
    "\n",
    "data = pd.read_parquet('../data/train.parquet', engine='pyarrow')"
   ]
  },
  {
   "cell_type": "code",
   "execution_count": 2,
   "id": "ca313318-71c3-443a-ad0a-25efbcaff074",
   "metadata": {},
   "outputs": [
    {
     "data": {
      "text/html": [
       "<div>\n",
       "<style scoped>\n",
       "    .dataframe tbody tr th:only-of-type {\n",
       "        vertical-align: middle;\n",
       "    }\n",
       "\n",
       "    .dataframe tbody tr th {\n",
       "        vertical-align: top;\n",
       "    }\n",
       "\n",
       "    .dataframe thead th {\n",
       "        text-align: right;\n",
       "    }\n",
       "</style>\n",
       "<table border=\"1\" class=\"dataframe\">\n",
       "  <thead>\n",
       "    <tr style=\"text-align: right;\">\n",
       "      <th></th>\n",
       "      <th>NEWS_TITLE</th>\n",
       "      <th>NEWS_ORIGIN_SOURCE</th>\n",
       "      <th>NEWS_ID</th>\n",
       "    </tr>\n",
       "  </thead>\n",
       "  <tbody>\n",
       "    <tr>\n",
       "      <th>45171721</th>\n",
       "      <td>二维码支付从叫停到认可 支付市场格局将如何重构？</td>\n",
       "      <td>None</td>\n",
       "      <td>24257553</td>\n",
       "    </tr>\n",
       "    <tr>\n",
       "      <th>34610996</th>\n",
       "      <td>乐视搭上联合国开发计划署 共同推进全球可持续发展</td>\n",
       "      <td>None</td>\n",
       "      <td>11685134</td>\n",
       "    </tr>\n",
       "    <tr>\n",
       "      <th>35745983</th>\n",
       "      <td>散户如何正确开展“抗灾自救”？</td>\n",
       "      <td>None</td>\n",
       "      <td>13119429</td>\n",
       "    </tr>\n",
       "    <tr>\n",
       "      <th>34508167</th>\n",
       "      <td>摊上尿毒症花钱一辈子</td>\n",
       "      <td>齐鲁晚报</td>\n",
       "      <td>11546820</td>\n",
       "    </tr>\n",
       "    <tr>\n",
       "      <th>47214012</th>\n",
       "      <td>Win10更新14977又现BUG：微软表示那只能等下次更新</td>\n",
       "      <td>None</td>\n",
       "      <td>27673826</td>\n",
       "    </tr>\n",
       "    <tr>\n",
       "      <th>41665505</th>\n",
       "      <td>永清环保4月7日涨停</td>\n",
       "      <td>None</td>\n",
       "      <td>19953960</td>\n",
       "    </tr>\n",
       "    <tr>\n",
       "      <th>40792793</th>\n",
       "      <td>在皖全国人大代表抵京 积极传递“安徽好声音”</td>\n",
       "      <td>None</td>\n",
       "      <td>18839469</td>\n",
       "    </tr>\n",
       "    <tr>\n",
       "      <th>34316140</th>\n",
       "      <td>沪指翻红涨0.1%收复4400点</td>\n",
       "      <td>None</td>\n",
       "      <td>11309296</td>\n",
       "    </tr>\n",
       "    <tr>\n",
       "      <th>33117104</th>\n",
       "      <td>“金融商城”解燃眉之急</td>\n",
       "      <td>None</td>\n",
       "      <td>9792408</td>\n",
       "    </tr>\n",
       "    <tr>\n",
       "      <th>47128044</th>\n",
       "      <td>A股市场风格轮动周报:金融板块正强势,短期内可继续关注</td>\n",
       "      <td>None</td>\n",
       "      <td>27523491</td>\n",
       "    </tr>\n",
       "    <tr>\n",
       "      <th>45891895</th>\n",
       "      <td>上半年23家上市房企亏损 楼市缘何增收不增利</td>\n",
       "      <td>None</td>\n",
       "      <td>25468159</td>\n",
       "    </tr>\n",
       "    <tr>\n",
       "      <th>44732221</th>\n",
       "      <td>叶睿明:7.15法国遭受恐怖袭击,黄金白银继续下跌,多单被套怎么办?</td>\n",
       "      <td>None</td>\n",
       "      <td>23557128</td>\n",
       "    </tr>\n",
       "    <tr>\n",
       "      <th>44548474</th>\n",
       "      <td>兄弟情！C罗轻声耳语送别贝尔 最后的拥抱(gif)</td>\n",
       "      <td>None</td>\n",
       "      <td>23267207</td>\n",
       "    </tr>\n",
       "    <tr>\n",
       "      <th>39780023</th>\n",
       "      <td>零时起92#国V汽油 下调至5.54元/升</td>\n",
       "      <td>None</td>\n",
       "      <td>17684313</td>\n",
       "    </tr>\n",
       "    <tr>\n",
       "      <th>40103786</th>\n",
       "      <td>底价下调未满月即被击穿国投电力拟终止90亿元定增</td>\n",
       "      <td>大众证券报</td>\n",
       "      <td>18050854</td>\n",
       "    </tr>\n",
       "    <tr>\n",
       "      <th>46487408</th>\n",
       "      <td>上周新增投资者40.36万人 交易活跃度小幅回升</td>\n",
       "      <td>None</td>\n",
       "      <td>26475581</td>\n",
       "    </tr>\n",
       "    <tr>\n",
       "      <th>33997797</th>\n",
       "      <td>捷克男子恶搞女友遭报复 赤身裸体被粘在椅子上</td>\n",
       "      <td>天山网</td>\n",
       "      <td>10891260</td>\n",
       "    </tr>\n",
       "    <tr>\n",
       "      <th>38460601</th>\n",
       "      <td>10月深圳新房价格同比涨4成 领跑全国</td>\n",
       "      <td>None</td>\n",
       "      <td>16150939</td>\n",
       "    </tr>\n",
       "    <tr>\n",
       "      <th>38584141</th>\n",
       "      <td>午评：日本股市交投平淡 日经225指数跌0.1%</td>\n",
       "      <td>和讯股票</td>\n",
       "      <td>16286085</td>\n",
       "    </tr>\n",
       "    <tr>\n",
       "      <th>41403454</th>\n",
       "      <td>*ST博元退市：重仓ST股的基金及退市风险个股一览</td>\n",
       "      <td>证券之星</td>\n",
       "      <td>19654032</td>\n",
       "    </tr>\n",
       "  </tbody>\n",
       "</table>\n",
       "</div>"
      ],
      "text/plain": [
       "                                  NEWS_TITLE NEWS_ORIGIN_SOURCE   NEWS_ID\n",
       "45171721            二维码支付从叫停到认可 支付市场格局将如何重构？               None  24257553\n",
       "34610996            乐视搭上联合国开发计划署 共同推进全球可持续发展               None  11685134\n",
       "35745983                     散户如何正确开展“抗灾自救”？               None  13119429\n",
       "34508167                          摊上尿毒症花钱一辈子               齐鲁晚报  11546820\n",
       "47214012      Win10更新14977又现BUG：微软表示那只能等下次更新               None  27673826\n",
       "41665505                          永清环保4月7日涨停               None  19953960\n",
       "40792793              在皖全国人大代表抵京 积极传递“安徽好声音”               None  18839469\n",
       "34316140                    沪指翻红涨0.1%收复4400点               None  11309296\n",
       "33117104                         “金融商城”解燃眉之急               None   9792408\n",
       "47128044         A股市场风格轮动周报:金融板块正强势,短期内可继续关注               None  27523491\n",
       "45891895              上半年23家上市房企亏损 楼市缘何增收不增利               None  25468159\n",
       "44732221  叶睿明:7.15法国遭受恐怖袭击,黄金白银继续下跌,多单被套怎么办?               None  23557128\n",
       "44548474           兄弟情！C罗轻声耳语送别贝尔 最后的拥抱(gif)               None  23267207\n",
       "39780023               零时起92#国V汽油 下调至5.54元/升               None  17684313\n",
       "40103786            底价下调未满月即被击穿国投电力拟终止90亿元定增              大众证券报  18050854\n",
       "46487408            上周新增投资者40.36万人 交易活跃度小幅回升               None  26475581\n",
       "33997797              捷克男子恶搞女友遭报复 赤身裸体被粘在椅子上                天山网  10891260\n",
       "38460601                 10月深圳新房价格同比涨4成 领跑全国               None  16150939\n",
       "38584141            午评：日本股市交投平淡 日经225指数跌0.1%               和讯股票  16286085\n",
       "41403454           *ST博元退市：重仓ST股的基金及退市风险个股一览               证券之星  19654032"
      ]
     },
     "execution_count": 2,
     "metadata": {},
     "output_type": "execute_result"
    }
   ],
   "source": [
    "data.sample(20)"
   ]
  },
  {
   "cell_type": "code",
   "execution_count": 3,
   "id": "c88ff41e-c660-4a22-b820-646767f8deb3",
   "metadata": {},
   "outputs": [],
   "source": [
    "data = data.sample(100000)"
   ]
  },
  {
   "cell_type": "markdown",
   "id": "23b26ce3-10ca-4aa6-b76b-f308e3401941",
   "metadata": {},
   "source": [
    "## 2. Preprocessing data\n",
    "1. 去标点符号\n",
    "2. 分词\n",
    "3. 移除stopwords"
   ]
  },
  {
   "cell_type": "code",
   "execution_count": 4,
   "id": "455cea38-ba7c-4470-8c70-92b7f9d810c3",
   "metadata": {},
   "outputs": [
    {
     "name": "stdout",
     "output_type": "stream",
     "text": [
      "测试去除标点\n"
     ]
    }
   ],
   "source": [
    "import re\n",
    "punc = ''' \"()\\[\\]\\{\\}！？｡。＂＃＄％＆＇（）＊＋，－／：；＜＝＞＠［＼］＾＿｀｛｜｝～｟｠｢｣､、〃》「」『』【】〔〕〖〗〘〙〚〛〜〝〞〟〰〾〿–—‘’‛“”„‟…‧﹏.'''\n",
    "\n",
    "def puncRemover(s):\n",
    "    return re.sub(r'[%s]'%punc, \"\", s)\n",
    "\n",
    "line = \"测试。。去 除标点。。，、！\"\n",
    "# print(re.sub(r'[%s]'%punc, \"\", line))\n",
    "print(puncRemover(line))"
   ]
  },
  {
   "cell_type": "code",
   "execution_count": 5,
   "id": "313e15ba-dd29-4bd1-8c7b-3b01a9ebc5e0",
   "metadata": {},
   "outputs": [],
   "source": [
    "news_title = data.NEWS_TITLE\n",
    "news_title = news_title.apply(puncRemover)"
   ]
  },
  {
   "cell_type": "code",
   "execution_count": 6,
   "id": "381af0cd-f989-4952-a267-a74761f33ca7",
   "metadata": {},
   "outputs": [
    {
     "data": {
      "text/plain": [
       "45529827                        中兴赵先明新主张\n",
       "36754943                    哪些是工业40的细分领域\n",
       "36385443                           三步踩的妻\n",
       "41062438    美国拍卖3个月短期国库券收益率为0335%认购比率347\n",
       "42344517         4月26日新三板募资12亿9家企业发布定增预案\n",
       "                        ...             \n",
       "40792630             前瞻两会积极财政政策再发力减税费成焦点\n",
       "33812364             三股价值被市场严重低估未来股价翻番在即\n",
       "38853522                   官员感谢八项规定是可喜信号\n",
       "37609623              今是昨非10月13日商品期货操作建议\n",
       "37242086              捷豹首款SUV价格首曝光售276万起\n",
       "Name: NEWS_TITLE, Length: 100000, dtype: object"
      ]
     },
     "execution_count": 6,
     "metadata": {},
     "output_type": "execute_result"
    }
   ],
   "source": [
    "news_title"
   ]
  },
  {
   "cell_type": "code",
   "execution_count": 7,
   "id": "28b1c46b-648b-4a0f-8a35-ce4656dcb933",
   "metadata": {},
   "outputs": [],
   "source": [
    "import jieba"
   ]
  },
  {
   "cell_type": "code",
   "execution_count": 8,
   "id": "8ece666f-8deb-4201-beb9-c1482dac99a8",
   "metadata": {},
   "outputs": [
    {
     "name": "stderr",
     "output_type": "stream",
     "text": [
      "Building prefix dict from the default dictionary ...\n",
      "Loading model from cache /var/folders/x7/bnm7sy4j0bj1fs53ln11sg_80000gn/T/jieba.cache\n",
      "Loading model cost 0.668 seconds.\n",
      "Prefix dict has been built successfully.\n"
     ]
    }
   ],
   "source": [
    "news_title = news_title.apply(lambda x: list(jieba.cut(x)))"
   ]
  },
  {
   "cell_type": "code",
   "execution_count": 9,
   "id": "e7f810cd-9a01-4f75-9e77-4d8bca731055",
   "metadata": {},
   "outputs": [
    {
     "data": {
      "text/plain": [
       "45529827                                     [中兴, 赵先明, 新, 主张]\n",
       "36754943                           [哪些, 是, 工业, 40, 的, 细分, 领域]\n",
       "36385443                                        [三步, 踩, 的, 妻]\n",
       "41062438    [美国, 拍卖, 3, 个, 月, 短期, 国库券, 收益率, 为, 0335%, 认购, ...\n",
       "42344517    [4, 月, 26, 日新, 三板, 募资, 12, 亿, 9, 家, 企业, 发布, 定增...\n",
       "                                  ...                        \n",
       "40792630                [前瞻, 两会, 积极, 财政政策, 再, 发力, 减税, 费成, 焦点]\n",
       "33812364            [三股, 价值, 被, 市场, 严重, 低估, 未来, 股价, 翻番, 在, 即]\n",
       "38853522                          [官员, 感谢, 八项, 规定, 是, 可喜, 信号]\n",
       "37609623                 [今是昨非, 10, 月, 13, 日, 商品, 期货, 操作, 建议]\n",
       "37242086                 [捷豹, 首款, SUV, 价格, 首, 曝光, 售, 276, 万起]\n",
       "Name: NEWS_TITLE, Length: 100000, dtype: object"
      ]
     },
     "execution_count": 9,
     "metadata": {},
     "output_type": "execute_result"
    }
   ],
   "source": [
    "news_title"
   ]
  },
  {
   "cell_type": "code",
   "execution_count": 10,
   "id": "0a8c4017-99b9-4eb5-9e7f-5ad2cdd30589",
   "metadata": {},
   "outputs": [
    {
     "data": {
      "text/plain": [
       "['中兴', '赵先明', '新', '主张']"
      ]
     },
     "execution_count": 10,
     "metadata": {},
     "output_type": "execute_result"
    }
   ],
   "source": [
    "list(jieba.cut(data.NEWS_TITLE.iloc[0]))"
   ]
  },
  {
   "cell_type": "code",
   "execution_count": null,
   "id": "4ab0af76-746c-4797-b8fc-0018e83227b2",
   "metadata": {},
   "outputs": [],
   "source": []
  },
  {
   "cell_type": "code",
   "execution_count": 11,
   "id": "c28ede80-03f4-478e-b16f-35cdfedc8de4",
   "metadata": {},
   "outputs": [],
   "source": [
    "cn_stopwords = pd.read_csv('../data/cn_stopwords.txt', header=None)\n",
    "\n",
    "cn_stopwords = set(cn_stopwords.iloc[:,0])"
   ]
  },
  {
   "cell_type": "code",
   "execution_count": 12,
   "id": "e09d362e-b80e-48bd-869d-8668f13fffc7",
   "metadata": {},
   "outputs": [
    {
     "data": {
      "text/plain": [
       "True"
      ]
     },
     "execution_count": 12,
     "metadata": {},
     "output_type": "execute_result"
    }
   ],
   "source": [
    "\"在\" in cn_stopwords"
   ]
  },
  {
   "cell_type": "code",
   "execution_count": 13,
   "id": "83d76574-40c2-425c-8d3d-43cfdb7a0294",
   "metadata": {},
   "outputs": [],
   "source": [
    "news_title = news_title.apply(lambda x: [i for i in x if i not in cn_stopwords])"
   ]
  },
  {
   "cell_type": "code",
   "execution_count": 14,
   "id": "c7baab29-937c-4f5a-b9cf-dab9b8d91742",
   "metadata": {},
   "outputs": [
    {
     "data": {
      "text/plain": [
       "45529827                                 [中兴, 赵先明, 新, 主张]\n",
       "36754943                                 [工业, 40, 细分, 领域]\n",
       "36385443                                       [三步, 踩, 妻]\n",
       "41062438    [美国, 拍卖, 月, 短期, 国库券, 收益率, 0335%, 认购, 比率, 347]\n",
       "42344517    [月, 26, 日新, 三板, 募资, 12, 亿, 家, 企业, 发布, 定增, 预案]\n",
       "                                ...                      \n",
       "40792630               [前瞻, 两会, 积极, 财政政策, 发力, 减税, 费成, 焦点]\n",
       "33812364                 [三股, 价值, 市场, 严重, 低估, 未来, 股价, 翻番]\n",
       "38853522                         [官员, 感谢, 八项, 规定, 可喜, 信号]\n",
       "37609623             [今是昨非, 10, 月, 13, 日, 商品, 期货, 操作, 建议]\n",
       "37242086             [捷豹, 首款, SUV, 价格, 首, 曝光, 售, 276, 万起]\n",
       "Name: NEWS_TITLE, Length: 100000, dtype: object"
      ]
     },
     "execution_count": 14,
     "metadata": {},
     "output_type": "execute_result"
    }
   ],
   "source": [
    "news_title"
   ]
  },
  {
   "cell_type": "markdown",
   "id": "13284ccd-cce9-4110-9248-1e4f1bee23b1",
   "metadata": {},
   "source": [
    "## 3.1 Bag of words on the dataset"
   ]
  },
  {
   "cell_type": "code",
   "execution_count": 15,
   "id": "34ee7744-23c7-4a9d-a917-110c3d3ce985",
   "metadata": {},
   "outputs": [],
   "source": [
    "import gensim"
   ]
  },
  {
   "cell_type": "code",
   "execution_count": 16,
   "id": "97b9df74-1d81-4343-9a91-04decbd2142b",
   "metadata": {},
   "outputs": [],
   "source": [
    "dictionary = gensim.corpora.Dictionary(news_title)"
   ]
  },
  {
   "cell_type": "code",
   "execution_count": 17,
   "id": "8d558554-ee76-4834-8219-d4450a2bdd2d",
   "metadata": {},
   "outputs": [
    {
     "name": "stdout",
     "output_type": "stream",
     "text": [
      "0 中兴\n",
      "1 主张\n",
      "2 新\n",
      "3 赵先明\n",
      "4 40\n",
      "5 工业\n",
      "6 细分\n",
      "7 领域\n",
      "8 三步\n",
      "9 妻\n",
      "10 踩\n"
     ]
    }
   ],
   "source": [
    "count = 0\n",
    "\n",
    "for k,v in dictionary.iteritems():\n",
    "    print(k,v)\n",
    "    count += 1\n",
    "    if count > 10:\n",
    "        break"
   ]
  },
  {
   "cell_type": "code",
   "execution_count": 18,
   "id": "0556a79d-68be-4832-9863-28d3c213f3c7",
   "metadata": {},
   "outputs": [],
   "source": [
    "# remove very common and very rare words\n",
    "dictionary.filter_extremes(no_below=3, no_above=0.7, keep_n = 100000)"
   ]
  },
  {
   "cell_type": "code",
   "execution_count": 19,
   "id": "bd8e0893-59b8-4a08-9ec0-530cd477d387",
   "metadata": {},
   "outputs": [
    {
     "data": {
      "text/plain": [
       "100000"
      ]
     },
     "execution_count": 19,
     "metadata": {},
     "output_type": "execute_result"
    }
   ],
   "source": [
    "dictionary.num_docs"
   ]
  },
  {
   "cell_type": "code",
   "execution_count": 20,
   "id": "c323173c-dd28-4ef4-b748-f1198fc47c8e",
   "metadata": {},
   "outputs": [],
   "source": [
    "# doc2bow(doc)\n",
    "# Convert document (a list of words) into the bag-of-words format = list of (token_id, token_count) 2-tuples. \n",
    "# Each word is assumed to be a tokenized and normalized string (either unicode or utf8-encoded). \n",
    "# No further preprocessing is done on the words in document; apply tokenization, stemming etc. before calling this method."
   ]
  },
  {
   "cell_type": "code",
   "execution_count": 21,
   "id": "ad746960-7f8b-4f7a-883d-dc763ad1a081",
   "metadata": {},
   "outputs": [],
   "source": [
    "bow_corpus = [dictionary.doc2bow(doc) for doc in news_title]"
   ]
  },
  {
   "cell_type": "code",
   "execution_count": 22,
   "id": "af4dcb98-a5a4-437c-a9a3-43a6f887d095",
   "metadata": {},
   "outputs": [
    {
     "data": {
      "text/plain": [
       "[(4, 1), (5, 1), (6, 1), (7, 1)]"
      ]
     },
     "execution_count": 22,
     "metadata": {},
     "output_type": "execute_result"
    }
   ],
   "source": [
    "bow_corpus[1]"
   ]
  },
  {
   "cell_type": "code",
   "execution_count": 23,
   "id": "6ce579cc-a6c2-450e-b5d6-ed4838883e0e",
   "metadata": {},
   "outputs": [
    {
     "data": {
      "text/plain": [
       "['工业', '40', '细分', '领域']"
      ]
     },
     "execution_count": 23,
     "metadata": {},
     "output_type": "execute_result"
    }
   ],
   "source": [
    "news_title.iloc[1]"
   ]
  },
  {
   "cell_type": "code",
   "execution_count": 24,
   "id": "e3e52ea7-8c2a-4616-9af2-549e0df0943e",
   "metadata": {},
   "outputs": [
    {
     "name": "stdout",
     "output_type": "stream",
     "text": [
      "original news: ['2016', '年', '月份', '居民消费', '价格', '同比', '上涨', '23%']\n",
      "word (171, 年) appears 1 times\n",
      "word (295, 价格) appears 1 times\n",
      "word (315, 2016) appears 1 times\n",
      "word (337, 月份) appears 1 times\n",
      "word (776, 上涨) appears 1 times\n",
      "word (777, 同比) appears 1 times\n",
      "word (1357, 23%) appears 1 times\n",
      "word (1358, 居民消费) appears 1 times\n"
     ]
    }
   ],
   "source": [
    "example_num = 244\n",
    "example_doc = bow_corpus[example_num]\n",
    "print(\"original news:\", news_title.iloc[example_num])\n",
    "for i in range(len(example_doc)):\n",
    "    print(f\"word ({example_doc[i][0]}, {dictionary[example_doc[i][0]]}) appears {example_doc[i][1]} times\")"
   ]
  },
  {
   "cell_type": "markdown",
   "id": "7b6b48ec-54ad-4b2e-853d-2e51d910155c",
   "metadata": {},
   "source": [
    "## 3.2 TF-IDF on document set"
   ]
  },
  {
   "cell_type": "code",
   "execution_count": 25,
   "id": "c907301c-fb50-4ed5-a4e1-0143a9923696",
   "metadata": {},
   "outputs": [
    {
     "name": "stdout",
     "output_type": "stream",
     "text": [
      "TfidfModel<num_docs=100000, num_nnz=763903>\n"
     ]
    }
   ],
   "source": [
    "from gensim import corpora, models \n",
    "\n",
    "tfidf = models.TfidfModel(bow_corpus)\n",
    "print(tfidf)"
   ]
  },
  {
   "cell_type": "code",
   "execution_count": 26,
   "id": "7cab2c9c-981d-4925-93c9-0cde10a42d6c",
   "metadata": {},
   "outputs": [
    {
     "name": "stdout",
     "output_type": "stream",
     "text": [
      "[(4, 0.4545313910971169), (5, 0.4443384361593428), (6, 0.6334341764277164), (7, 0.44127736492157643)]\n"
     ]
    }
   ],
   "source": [
    "corpus_tfidf = tfidf[bow_corpus]\n",
    "print(corpus_tfidf[1])"
   ]
  },
  {
   "cell_type": "markdown",
   "id": "9e401d5d-9b0f-4c56-ac8e-bbc2801a048d",
   "metadata": {},
   "source": [
    "## 4.1 Running LDA using bag of words"
   ]
  },
  {
   "cell_type": "code",
   "execution_count": 27,
   "id": "ffd1c959-3404-4b61-844d-0641a25d01e9",
   "metadata": {},
   "outputs": [],
   "source": [
    "lda_model = gensim.models.LdaMulticore(bow_corpus, \n",
    "                                      num_topics=10,\n",
    "                                      id2word=dictionary,\n",
    "                                      passes=2,\n",
    "                                      workers=8)"
   ]
  },
  {
   "cell_type": "code",
   "execution_count": 28,
   "id": "e8a08c2f-1cb6-4cef-99f7-95249f29a62a",
   "metadata": {},
   "outputs": [
    {
     "name": "stdout",
     "output_type": "stream",
     "text": [
      "Topic: 0 \n",
      "Words: 0.043*\"月\" + 0.033*\"日\" + 0.012*\"价格\" + 0.012*\"年\" + 0.009*\"10\" + 0.008*\"最新\" + 0.007*\"12\" + 0.007*\"2016\" + 0.007*\"动态\" + 0.006*\"投资\"\n",
      "\n",
      "\n",
      "Topic: 1 \n",
      "Words: 0.009*\"股东\" + 0.008*\"公告\" + 0.008*\"基金\" + 0.008*\"股份\" + 0.007*\"机构\" + 0.006*\"股\" + 0.006*\"中国\" + 0.006*\"有限公司\" + 0.005*\"投资\" + 0.005*\":\"\n",
      "\n",
      "\n",
      "Topic: 2 \n",
      "Words: 0.015*\"新\" + 0.015*\"月\" + 0.011*\"日\" + 0.008*\"三板\" + 0.007*\"价格\" + 0.007*\"生意\" + 0.006*\"社\" + 0.005*\"公司\" + 0.005*\"市场\" + 0.004*\"动态\"\n",
      "\n",
      "\n",
      "Topic: 3 \n",
      "Words: 0.014*\":\" + 0.007*\"市场\" + 0.006*\"美联储\" + 0.006*\"中国\" + 0.006*\"加息\" + 0.006*\"元\" + 0.006*\",\" + 0.005*\"收盘\" + 0.005*\"美元\" + 0.005*\"震荡\"\n",
      "\n",
      "\n",
      "Topic: 4 \n",
      "Words: 0.016*\"月\" + 0.010*\"市场\" + 0.008*\"元\" + 0.008*\"日\" + 0.007*\"资金\" + 0.006*\"快讯\" + 0.005*\"亿元\" + 0.005*\"涨停\" + 0.005*\"人民币\" + 0.005*\"央行\"\n",
      "\n",
      "\n",
      "Topic: 5 \n",
      "Words: 0.015*\"中国\" + 0.007*\"股\" + 0.007*\"发展\" + 0.005*\":\" + 0.005*\"公司\" + 0.005*\"年\" + 0.005*\"银行\" + 0.004*\"股份\" + 0.004*\"亿\" + 0.004*\"创新\"\n",
      "\n",
      "\n",
      "Topic: 6 \n",
      "Words: 0.017*\":\" + 0.011*\",\" + 0.010*\"行业\" + 0.006*\"投资\" + 0.005*\"沪\" + 0.005*\"月\" + 0.005*\"业绩\" + 0.004*\"增长\" + 0.004*\"年\" + 0.004*\"市场\"\n",
      "\n",
      "\n",
      "Topic: 7 \n",
      "Words: 0.014*\"年\" + 0.010*\"月\" + 0.010*\"同比\" + 0.009*\"万元\" + 0.008*\"股份\" + 0.008*\"增长\" + 0.007*\"净利\" + 0.006*\"10\" + 0.006*\"2015\" + 0.006*\"亿\"\n",
      "\n",
      "\n",
      "Topic: 8 \n",
      "Words: 0.014*\"中国\" + 0.009*\"月\" + 0.007*\"-\" + 0.005*\"发展\" + 0.004*\"2015\" + 0.004*\"年\" + 0.004*\"期货\" + 0.004*\":\" + 0.004*\"日\" + 0.004*\"工作\"\n",
      "\n",
      "\n",
      "Topic: 9 \n",
      "Words: 0.009*\"经济\" + 0.009*\":\" + 0.007*\"金融\" + 0.006*\"中国\" + 0.006*\"证券\" + 0.005*\"新\" + 0.004*\",\" + 0.004*\"反弹\" + 0.003*\"数据\" + 0.003*\"合作\"\n",
      "\n",
      "\n"
     ]
    }
   ],
   "source": [
    "for idx, topic in lda_model.print_topics(-1):\n",
    "    print(\"Topic: {} \\nWords: {}\".format(idx, topic))\n",
    "    print(\"\\n\")"
   ]
  },
  {
   "cell_type": "markdown",
   "id": "6af6bdcf-0c8c-445b-ad7d-98de885a140c",
   "metadata": {},
   "source": [
    "## 4.2 Running LDA using TF-IDF"
   ]
  },
  {
   "cell_type": "code",
   "execution_count": 29,
   "id": "cda2a76a-0272-41e4-946b-24733f321fd9",
   "metadata": {},
   "outputs": [],
   "source": [
    "lda_model_tfidf = gensim.models.LdaMulticore(corpus_tfidf, \n",
    "                                             num_topics=10, \n",
    "                                             id2word = dictionary, \n",
    "                                             passes = 2, \n",
    "                                             workers=8)"
   ]
  },
  {
   "cell_type": "code",
   "execution_count": 30,
   "id": "564b37e3-e8d8-4eff-9127-b39bcf7a51a5",
   "metadata": {},
   "outputs": [
    {
     "name": "stdout",
     "output_type": "stream",
     "text": [
      "Topic: 0 Word: 0.004*\"月\" + 0.003*\"日\" + 0.003*\"中国\" + 0.003*\":\" + 0.002*\"市场\" + 0.002*\"股\" + 0.002*\"新\" + 0.002*\"板块\" + 0.002*\"动态\" + 0.002*\"公司\"\n",
      "\n",
      "\n",
      "Topic: 1 Word: 0.005*\"月\" + 0.004*\"日\" + 0.004*\"中国\" + 0.004*\"市场\" + 0.003*\"经济\" + 0.003*\"价格\" + 0.003*\":\" + 0.002*\"黄金\" + 0.002*\"上海\" + 0.002*\"美国\"\n",
      "\n",
      "\n",
      "Topic: 2 Word: 0.004*\"月\" + 0.004*\"中国\" + 0.003*\"日\" + 0.003*\"公告\" + 0.003*\":\" + 0.003*\"市场\" + 0.002*\"有限公司\" + 0.002*\"股份\" + 0.002*\"新\" + 0.002*\"价格\"\n",
      "\n",
      "\n",
      "Topic: 3 Word: 0.004*\"-\" + 0.003*\"月\" + 0.003*\"新\" + 0.003*\"中国\" + 0.003*\":\" + 0.003*\"年\" + 0.003*\"日\" + 0.002*\"10\" + 0.002*\"股东\" + 0.002*\"股份\"\n",
      "\n",
      "\n",
      "Topic: 4 Word: 0.004*\"沪\" + 0.004*\"月\" + 0.004*\":\" + 0.003*\"指\" + 0.003*\"中国\" + 0.002*\"年\" + 0.002*\"市场\" + 0.002*\",\" + 0.002*\"期货\" + 0.002*\"日\"\n",
      "\n",
      "\n",
      "Topic: 5 Word: 0.007*\"年\" + 0.006*\"月\" + 0.004*\"2015\" + 0.004*\"日\" + 0.004*\"2016\" + 0.004*\"万元\" + 0.004*\":\" + 0.004*\"提示\" + 0.003*\"-\" + 0.003*\"最新\"\n",
      "\n",
      "\n",
      "Topic: 6 Word: 0.004*\"中国\" + 0.002*\":\" + 0.002*\"新\" + 0.002*\"机构\" + 0.002*\"公司\" + 0.002*\"年\" + 0.002*\"月\" + 0.002*\"投资\" + 0.002*\"市场\" + 0.002*\"基金\"\n",
      "\n",
      "\n",
      "Topic: 7 Word: 0.004*\"月\" + 0.003*\"日\" + 0.003*\"中国\" + 0.002*\"机构\" + 0.002*\":\" + 0.002*\"行业\" + 0.002*\"公司\" + 0.002*\"市场\" + 0.002*\"家\" + 0.002*\"国际\"\n",
      "\n",
      "\n",
      "Topic: 8 Word: 0.004*\"人民币\" + 0.004*\"月\" + 0.003*\"美元\" + 0.003*\"央行\" + 0.003*\"中国\" + 0.003*\"市场\" + 0.003*\"加息\" + 0.002*\"资金\" + 0.002*\"美联储\" + 0.002*\":\"\n",
      "\n",
      "\n",
      "Topic: 9 Word: 0.005*\"月\" + 0.005*\"日\" + 0.004*\"中国\" + 0.003*\"快讯\" + 0.003*\"价格\" + 0.003*\"投资\" + 0.003*\"报于\" + 0.003*\"涨停\" + 0.003*\"元\" + 0.003*\"股份\"\n",
      "\n",
      "\n"
     ]
    }
   ],
   "source": [
    "for idx, topic in lda_model_tfidf.print_topics(-1):\n",
    "    \n",
    "    print(\"Topic: {} Word: {}\".format(idx, topic))\n",
    "    print(\"\\n\")"
   ]
  },
  {
   "cell_type": "code",
   "execution_count": null,
   "id": "756517cc-2b24-4296-a4c6-bd694d841340",
   "metadata": {},
   "outputs": [],
   "source": []
  }
 ],
 "metadata": {
  "kernelspec": {
   "display_name": "Python (nlp)",
   "language": "python",
   "name": "nlp"
  },
  "language_info": {
   "codemirror_mode": {
    "name": "ipython",
    "version": 3
   },
   "file_extension": ".py",
   "mimetype": "text/x-python",
   "name": "python",
   "nbconvert_exporter": "python",
   "pygments_lexer": "ipython3",
   "version": "3.9.13"
  }
 },
 "nbformat": 4,
 "nbformat_minor": 5
}
