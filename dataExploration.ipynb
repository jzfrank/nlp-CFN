{
 "cells": [
  {
   "cell_type": "code",
   "execution_count": 1,
   "id": "f144b328-3188-4ca7-bbb6-85226d548816",
   "metadata": {},
   "outputs": [],
   "source": [
    "import pandas as pd"
   ]
  },
  {
   "cell_type": "markdown",
   "id": "97c85972-c3d0-4dea-8457-518ae7d0c6a2",
   "metadata": {
    "tags": []
   },
   "source": [
    "# Read in Data"
   ]
  },
  {
   "cell_type": "code",
   "execution_count": 2,
   "id": "1237c879-f054-4acb-b60c-fbf25d750544",
   "metadata": {},
   "outputs": [],
   "source": [
    "data = pd.read_parquet('../data/train.parquet', engine='pyarrow')"
   ]
  },
  {
   "cell_type": "code",
   "execution_count": 3,
   "id": "88b7fe8e-10c8-48fc-9b75-e422a4a6e78e",
   "metadata": {},
   "outputs": [
    {
     "data": {
      "text/html": [
       "<div>\n",
       "<style scoped>\n",
       "    .dataframe tbody tr th:only-of-type {\n",
       "        vertical-align: middle;\n",
       "    }\n",
       "\n",
       "    .dataframe tbody tr th {\n",
       "        vertical-align: top;\n",
       "    }\n",
       "\n",
       "    .dataframe thead th {\n",
       "        text-align: right;\n",
       "    }\n",
       "</style>\n",
       "<table border=\"1\" class=\"dataframe\">\n",
       "  <thead>\n",
       "    <tr style=\"text-align: right;\">\n",
       "      <th></th>\n",
       "      <th>NEWS_TITLE</th>\n",
       "      <th>NEWS_ORIGIN_SOURCE</th>\n",
       "      <th>NEWS_ID</th>\n",
       "    </tr>\n",
       "  </thead>\n",
       "  <tbody>\n",
       "    <tr>\n",
       "      <th>17647715</th>\n",
       "      <td>南京化纤：2015年净利润同比增长85倍</td>\n",
       "      <td>中国证券报中证网</td>\n",
       "      <td>18838196</td>\n",
       "    </tr>\n",
       "    <tr>\n",
       "      <th>17647716</th>\n",
       "      <td>3月3日A股全天行业资金动向</td>\n",
       "      <td>中国证券报中证网</td>\n",
       "      <td>18865191</td>\n",
       "    </tr>\n",
       "    <tr>\n",
       "      <th>17647717</th>\n",
       "      <td>人保健康两款税优健康险产品获批</td>\n",
       "      <td>中国证券报中证网</td>\n",
       "      <td>18865196</td>\n",
       "    </tr>\n",
       "    <tr>\n",
       "      <th>17647718</th>\n",
       "      <td>新三板收评：东海证券成交额超2亿元</td>\n",
       "      <td>中国证券报中证网</td>\n",
       "      <td>18865210</td>\n",
       "    </tr>\n",
       "    <tr>\n",
       "      <th>17647719</th>\n",
       "      <td>贺禹：大力发展核电 抓紧推进能源供给侧结构性改革</td>\n",
       "      <td>中国证券报中证网</td>\n",
       "      <td>18865211</td>\n",
       "    </tr>\n",
       "  </tbody>\n",
       "</table>\n",
       "</div>"
      ],
      "text/plain": [
       "                        NEWS_TITLE NEWS_ORIGIN_SOURCE   NEWS_ID\n",
       "17647715      南京化纤：2015年净利润同比增长85倍           中国证券报中证网  18838196\n",
       "17647716            3月3日A股全天行业资金动向           中国证券报中证网  18865191\n",
       "17647717           人保健康两款税优健康险产品获批           中国证券报中证网  18865196\n",
       "17647718         新三板收评：东海证券成交额超2亿元           中国证券报中证网  18865210\n",
       "17647719  贺禹：大力发展核电 抓紧推进能源供给侧结构性改革           中国证券报中证网  18865211"
      ]
     },
     "execution_count": 3,
     "metadata": {},
     "output_type": "execute_result"
    }
   ],
   "source": [
    "data.head()"
   ]
  },
  {
   "cell_type": "code",
   "execution_count": 4,
   "id": "662097e5-19c3-4b83-9684-524601d26a9a",
   "metadata": {},
   "outputs": [
    {
     "data": {
      "text/plain": [
       "(15340788, 3)"
      ]
     },
     "execution_count": 4,
     "metadata": {},
     "output_type": "execute_result"
    }
   ],
   "source": [
    "data.shape"
   ]
  },
  {
   "cell_type": "code",
   "execution_count": 5,
   "id": "7182b33d-14e0-49ec-b0d9-fe47bff681c3",
   "metadata": {},
   "outputs": [],
   "source": [
    "import pyarrow.parquet as pq"
   ]
  },
  {
   "cell_type": "code",
   "execution_count": 6,
   "id": "6a61c853-b2d5-4243-9688-2b03447d967f",
   "metadata": {},
   "outputs": [
    {
     "data": {
      "text/plain": [
       "<pyarrow._parquet.FileMetaData object at 0x7ff545c67540>\n",
       "  created_by: parquet-cpp-arrow version 9.0.0\n",
       "  num_columns: 4\n",
       "  num_rows: 15340788\n",
       "  num_row_groups: 1\n",
       "  format_version: 2.6\n",
       "  serialized_size: 3025"
      ]
     },
     "execution_count": 6,
     "metadata": {},
     "output_type": "execute_result"
    }
   ],
   "source": [
    "pq.ParquetFile('../data/train.parquet').metadata"
   ]
  },
  {
   "cell_type": "code",
   "execution_count": 7,
   "id": "a50df5af-09cf-4f53-90b9-948dc94c22ac",
   "metadata": {},
   "outputs": [
    {
     "data": {
      "text/plain": [
       "54817"
      ]
     },
     "execution_count": 7,
     "metadata": {},
     "output_type": "execute_result"
    }
   ],
   "source": [
    "len(data.NEWS_ORIGIN_SOURCE.unique())"
   ]
  },
  {
   "cell_type": "code",
   "execution_count": null,
   "id": "7fa39b34-4127-4929-b6a7-bd2967610ed0",
   "metadata": {},
   "outputs": [],
   "source": []
  },
  {
   "cell_type": "markdown",
   "id": "e00cf96d-fc79-4bc7-b18d-d7de7b4d02dd",
   "metadata": {},
   "source": [
    "# Data Preprocessing\n",
    "\n",
    "去除指定符号（空格，标点）；\n",
    "（jieba）分词；\n",
    "去除 stopwords；"
   ]
  },
  {
   "cell_type": "code",
   "execution_count": null,
   "id": "9bca090a-60bd-4bd6-ad1d-333144b22340",
   "metadata": {},
   "outputs": [],
   "source": []
  },
  {
   "cell_type": "code",
   "execution_count": null,
   "id": "e1ddc91c-75b2-4a3c-99da-0c1526023165",
   "metadata": {},
   "outputs": [],
   "source": []
  }
 ],
 "metadata": {
  "kernelspec": {
   "display_name": "Python (nlp)",
   "language": "python",
   "name": "nlp"
  },
  "language_info": {
   "codemirror_mode": {
    "name": "ipython",
    "version": 3
   },
   "file_extension": ".py",
   "mimetype": "text/x-python",
   "name": "python",
   "nbconvert_exporter": "python",
   "pygments_lexer": "ipython3",
   "version": "3.9.13"
  }
 },
 "nbformat": 4,
 "nbformat_minor": 5
}
